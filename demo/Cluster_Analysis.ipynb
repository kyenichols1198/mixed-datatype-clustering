{
 "cells": [
  {
   "cell_type": "code",
   "execution_count": 1,
   "id": "06acc9eb-3dbc-45df-be10-09bdba563953",
   "metadata": {},
   "outputs": [],
   "source": [
    "import numpy as np\n",
    "import pandas as pd"
   ]
  },
  {
   "cell_type": "code",
   "execution_count": 2,
   "id": "0b747daf-3f52-421e-8ab1-5d01d07b02d9",
   "metadata": {},
   "outputs": [],
   "source": [
    "binary_data = np.loadtxt(\n",
    "    \"binaryData_cleaned.txt\",\n",
    "    dtype=\"str\",\n",
    "    delimiter=\"\\t\",\n",
    "    skiprows=1,\n",
    "    usecols=range(1, 572),\n",
    ")\n",
    "# print(binary_data.shape)\n",
    "\n",
    "\n",
    "num_data = np.loadtxt(\n",
    "    \"propogatedData_cleaned.txt\",\n",
    "    dtype=\"float\",\n",
    "    delimiter=\"\\t\",\n",
    "    skiprows=1,\n",
    "    usecols=range(1, 514),\n",
    ")"
   ]
  },
  {
   "cell_type": "code",
   "execution_count": 11,
   "id": "b922abbd-77a0-44a2-aadd-5a88591a8970",
   "metadata": {},
   "outputs": [],
   "source": [
    "gower_weights = pd.read_csv('sparse_feature_weights_gower.csv', sep=',')\n",
    "wishart_weights = pd.read_csv('sparse_feature_weights_wishart.csv', sep=',')\n",
    "podani_weights = pd.read_csv('sparse_feature_weights_podani.csv', sep=',')\n",
    "huang_weights = pd.read_csv('sparse_feature_weights_huang.csv', sep=',')"
   ]
  },
  {
   "cell_type": "code",
   "execution_count": 46,
   "id": "b95f8877-f36c-41ad-979a-662e45b2f43e",
   "metadata": {},
   "outputs": [
    {
     "data": {
      "text/plain": [
       "1.2     0.184502\n",
       "1.4     0.276753\n",
       "1.6     0.369004\n",
       "1.8     0.553506\n",
       "2.0     1.014760\n",
       "2.2     1.476015\n",
       "2.4     2.306273\n",
       "2.6     7.564576\n",
       "2.8    21.863469\n",
       "3.0    83.671587\n",
       "dtype: float64"
      ]
     },
     "execution_count": 46,
     "metadata": {},
     "output_type": "execute_result"
    }
   ],
   "source": [
    "100*(1.0 - ((1.0*(gower_weights == 0.0)).sum(axis=0)/len(gower_weights)))"
   ]
  },
  {
   "cell_type": "code",
   "execution_count": 45,
   "id": "cabbfff4-8f77-4ab9-83a6-c45e085261f4",
   "metadata": {},
   "outputs": [
    {
     "data": {
      "text/plain": [
       "1.2    0.184502\n",
       "1.4    0.184502\n",
       "1.6    0.461255\n",
       "1.8    0.553506\n",
       "2.0    0.553506\n",
       "2.2    0.553506\n",
       "2.4    0.738007\n",
       "2.6    1.107011\n",
       "2.8    1.199262\n",
       "3.0    1.660517\n",
       "dtype: float64"
      ]
     },
     "execution_count": 45,
     "metadata": {},
     "output_type": "execute_result"
    }
   ],
   "source": [
    "100*(1.0 - ((1.0*(wishart_weights == 0.0)).sum(axis=0)/len(wishart_weights)))"
   ]
  },
  {
   "cell_type": "code",
   "execution_count": 44,
   "id": "5b3fafcc-a5ca-42d1-b2a8-4a0eb2afc6c7",
   "metadata": {},
   "outputs": [
    {
     "data": {
      "text/plain": [
       "1.2      0.276753\n",
       "1.4      0.276753\n",
       "1.6      0.461255\n",
       "1.8      1.476015\n",
       "2.0      5.996310\n",
       "2.2    100.000000\n",
       "2.4    100.000000\n",
       "2.6    100.000000\n",
       "2.8    100.000000\n",
       "3.0    100.000000\n",
       "dtype: float64"
      ]
     },
     "execution_count": 44,
     "metadata": {},
     "output_type": "execute_result"
    }
   ],
   "source": [
    "100*(1.0 - ((1.0*(podani_weights == 0.0)).sum(axis=0)/len(podani_weights)))"
   ]
  },
  {
   "cell_type": "code",
   "execution_count": 47,
   "id": "e5eabfe1-8e7d-4176-9b37-105ba3341f40",
   "metadata": {},
   "outputs": [
    {
     "data": {
      "text/plain": [
       "1.2     0.184502\n",
       "1.4     0.184502\n",
       "1.6     0.461255\n",
       "1.8     0.461255\n",
       "2.0     0.553506\n",
       "2.2     0.738007\n",
       "2.4     0.738007\n",
       "2.6     1.014760\n",
       "2.8     3.413284\n",
       "3.0    23.154982\n",
       "dtype: float64"
      ]
     },
     "execution_count": 47,
     "metadata": {},
     "output_type": "execute_result"
    }
   ],
   "source": [
    "100*(1.0 - ((1.0*(huang_weights == 0.0)).sum(axis=0)/len(huang_weights)))"
   ]
  },
  {
   "cell_type": "code",
   "execution_count": 56,
   "id": "1af229da-a494-41b0-8a18-90d6d387d1d1",
   "metadata": {},
   "outputs": [
    {
     "data": {
      "text/plain": [
       "1.2    0.000000\n",
       "1.4    0.000000\n",
       "1.6    0.000000\n",
       "1.8    0.500000\n",
       "2.0    1.200000\n",
       "2.2    2.200000\n",
       "2.4    2.125000\n",
       "2.6    2.280000\n",
       "2.8    2.291667\n",
       "3.0    0.993407\n",
       "dtype: float64"
      ]
     },
     "execution_count": 56,
     "metadata": {},
     "output_type": "execute_result"
    }
   ],
   "source": [
    "(1.0*(gower_weights.iloc[:513, ] !=0)).sum(axis=0) /(1.0*(gower_weights.iloc[513:, ] !=0)).sum(axis=0)"
   ]
  },
  {
   "cell_type": "code",
   "execution_count": 55,
   "id": "3d5eafa0-2011-4897-a721-2013c3bc464a",
   "metadata": {},
   "outputs": [
    {
     "data": {
      "text/plain": [
       "1.2     inf\n",
       "1.4     inf\n",
       "1.6     inf\n",
       "1.8     inf\n",
       "2.0     inf\n",
       "2.2     inf\n",
       "2.4     inf\n",
       "2.6    11.0\n",
       "2.8    12.0\n",
       "3.0     5.0\n",
       "dtype: float64"
      ]
     },
     "execution_count": 55,
     "metadata": {},
     "output_type": "execute_result"
    }
   ],
   "source": [
    "(1.0*(wishart_weights.iloc[:513, ] !=0)).sum(axis=0) /(1.0*(wishart_weights.iloc[513:, ] !=0)).sum(axis=0)"
   ]
  },
  {
   "cell_type": "code",
   "execution_count": 57,
   "id": "39658ace-7c85-4864-b95f-ddf431066d6b",
   "metadata": {},
   "outputs": [
    {
     "data": {
      "text/plain": [
       "1.2    0.000000\n",
       "1.4    0.000000\n",
       "1.6    0.000000\n",
       "1.8    0.777778\n",
       "2.0    0.511628\n",
       "2.2    0.898424\n",
       "2.4    0.898424\n",
       "2.6    0.898424\n",
       "2.8    0.898424\n",
       "3.0    0.898424\n",
       "dtype: float64"
      ]
     },
     "execution_count": 57,
     "metadata": {},
     "output_type": "execute_result"
    }
   ],
   "source": [
    "(1.0*(podani_weights.iloc[:513, ] !=0)).sum(axis=0) /(1.0*(podani_weights.iloc[513:, ] !=0)).sum(axis=0)"
   ]
  },
  {
   "cell_type": "code",
   "execution_count": 54,
   "id": "b1dc5eae-2213-4082-a0ed-f5e51bd76571",
   "metadata": {},
   "outputs": [
    {
     "data": {
      "text/plain": [
       "1.2         inf\n",
       "1.4         inf\n",
       "1.6    4.000000\n",
       "1.8    4.000000\n",
       "2.0    2.000000\n",
       "2.2    1.666667\n",
       "2.4    1.666667\n",
       "2.6    1.750000\n",
       "2.8    6.400000\n",
       "3.0    7.964286\n",
       "dtype: float64"
      ]
     },
     "execution_count": 54,
     "metadata": {},
     "output_type": "execute_result"
    }
   ],
   "source": [
    "(1.0*(huang_weights.iloc[:513, ] !=0)).sum(axis=0) /(1.0*(huang_weights.iloc[513:, ] !=0)).sum(axis=0)"
   ]
  },
  {
   "cell_type": "code",
   "execution_count": null,
   "id": "bafc0e37-0bf7-4222-a0a3-846b6a1e0553",
   "metadata": {},
   "outputs": [],
   "source": []
  }
 ],
 "metadata": {
  "kernelspec": {
   "display_name": "Python 3 (ipykernel)",
   "language": "python",
   "name": "python3"
  },
  "language_info": {
   "codemirror_mode": {
    "name": "ipython",
    "version": 3
   },
   "file_extension": ".py",
   "mimetype": "text/x-python",
   "name": "python",
   "nbconvert_exporter": "python",
   "pygments_lexer": "ipython3",
   "version": "3.9.7"
  }
 },
 "nbformat": 4,
 "nbformat_minor": 5
}
