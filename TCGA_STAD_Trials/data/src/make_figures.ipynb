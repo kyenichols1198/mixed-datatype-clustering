{
 "cells": [
  {
   "cell_type": "code",
   "execution_count": 1,
   "id": "ac7440f2-4ceb-4e81-8fb2-f1b5c60281f4",
   "metadata": {},
   "outputs": [],
   "source": [
    "\"\"\"\n",
    "Author: Kye D Nichols\n",
    "This script makes figures and serves as a demo\n",
    "\"\"\"\n",
    "import os\n",
    "import pandas as pd\n",
    "import numpy as np"
   ]
  },
  {
   "cell_type": "code",
   "execution_count": 2,
   "id": "0ff36738-57b2-4ca5-9a7a-a45a61d06ca6",
   "metadata": {},
   "outputs": [],
   "source": [
    "from customics import get_common_samples\n",
    "from helper_scripts import *\n",
    "from prep_data import *"
   ]
  },
  {
   "cell_type": "code",
   "execution_count": 3,
   "id": "12892af7-12e7-4491-9fa5-efbbb2cfc11b",
   "metadata": {},
   "outputs": [],
   "source": [
    "#!Rscript data/download_PANCAN.r"
   ]
  },
  {
   "cell_type": "code",
   "execution_count": 4,
   "id": "985cbd90-537d-4ce6-b72e-7e56164a9b70",
   "metadata": {},
   "outputs": [],
   "source": [
    "#!Rscript data/download_TCGA-STAD.r"
   ]
  },
  {
   "cell_type": "code",
   "execution_count": 5,
   "id": "488f1c52-1b79-4159-ae6d-5fffe15c4642",
   "metadata": {},
   "outputs": [],
   "source": [
    "proc_dir = os.path.join(os.pardir, 'data_proc')\n",
    "results_dir = os.path.join(os.pardir, 'results')\n",
    "figures_dir = os.path.join(os.pardir, 'figures')\n",
    "input_dir = os.path.join(os.pardir, 'download')\n",
    "\n",
    "\n",
    "mydirs = [figures_dir, results_dir, proc_dir]\n",
    "for mydir in mydirs:\n",
    "    if not os.path.exists(mydir):\n",
    "        os.makedirs(mydir)\n",
    "\n",
    "\n",
    "select_cols = [\"age_at_diagnosis\",\n",
    "            \"tissue_or_organ_of_origin\",\n",
    "            \"primary_diagnosis\",\n",
    "            \"ajcc_pathologic_t\",\n",
    "            \"race\",\n",
    "            \"vital_status\",\n",
    "            \"treatments_pharmaceutical_treatment_or_therapy\",\n",
    "            \"treatments_radiation_treatment_or_therapy\",\n",
    "            \"vital_status\",\n",
    "            \"gender\",\n",
    "            \"icd_10_code\",\n",
    "            \"ajcc_pathologic_m\",\n",
    "            \"prior_malignancy\"]\n",
    "\n",
    "clinical_path = os.path.join(input_dir, \"STAD_clinical.csv\")"
   ]
  },
  {
   "cell_type": "code",
   "execution_count": 6,
   "id": "817067a7-8b06-4c53-ac6e-cea7b2d3b062",
   "metadata": {},
   "outputs": [],
   "source": [
    "#output_name = \"TCGA-STAD-GI.subtype.noprot\"\n",
    "output_name = \"TCGA-STAD-Immune.subtype.noprot\"\n",
    "#encoding = {'GI.CIN': 0, 'GI.EBV': 1, 'GI.GS': 2, 'GI.MSI': 3}\n",
    "encoding = {\"StE\":0, \"ImD\":1, \"ImE\":2}\n",
    "#labels_path = os.path.join(input_dir, \"PANCAN_Subtype.csv\")\n",
    "labels_path = os.path.join(input_dir, \"PANCAN_Subtype_combined.csv\")\n",
    "latent_dim = 20\n",
    "#label_col_name = \"Subtype_Selected\"\n",
    "label_col_name = \"Immune.Subtype\"\n",
    "datatype_tag_dict = {\"RNAseq\":\"Counts_tpm.csv\",\n",
    "                     \"miRNAseq\":\"miRNA.csv\",\n",
    "                     \"methyl\":\"Methyl450-Beta.csv\"\n",
    "#                     \"Protein\":\"RPPA.csv\"\n",
    "                     }\n",
    "cluster_num = len(list(encoding))\n",
    "distance_types = [\"gower\", \"wishart\", \"podani\"]\n",
    "norm_params = [1.01]+[i/10 for i in range(11,45,1)]\n",
    "mixedd_cluster = 7"
   ]
  },
  {
   "cell_type": "code",
   "execution_count": 7,
   "id": "06102556-73c2-4d0e-a28b-a1237d20a6a8",
   "metadata": {},
   "outputs": [
    {
     "name": "stdout",
     "output_type": "stream",
     "text": [
      "Formating RNA-seq Data\n",
      "(415, 22755)\n",
      "Formating Methylation Data\n",
      "(395, 16741)\n",
      "Formating miRNA-seq Data\n",
      "(436, 1556)\n"
     ]
    }
   ],
   "source": [
    "(omics_df, labels, mysamples, outpaths) = prep_multi_omics(input_dir,\n",
    "                                                           output_name,\n",
    "                                                           proc_dir,\n",
    "                                                           labels_path,\n",
    "                                                           label_col_name,\n",
    "                                                           datatype_tag_dict,\n",
    "                                                           encoding,\n",
    "                                                           overwrite=True\n",
    "                                                            )"
   ]
  },
  {
   "cell_type": "code",
   "execution_count": 8,
   "id": "85f5a411-e20a-46d0-aa7c-6b4f11e9391d",
   "metadata": {},
   "outputs": [],
   "source": [
    "# Run Mixomics using outpaths"
   ]
  },
  {
   "cell_type": "code",
   "execution_count": 9,
   "id": "83f56e9f-7bca-4c16-a04e-b008fc191d6d",
   "metadata": {},
   "outputs": [],
   "source": [
    "#!(runMixOmics.r TCGA-STAD-GI.subtype.noprot)"
   ]
  },
  {
   "cell_type": "code",
   "execution_count": 10,
   "id": "974da435-b79b-416c-ad26-448fb3c734bb",
   "metadata": {},
   "outputs": [],
   "source": [
    "#pca_dims=200\n",
    "#pca_data_path = os.path.join(output_path, \"%s_pca.csv\" % output_name)\n",
    "#pca_df = pca_multi_omics(omics_df, pca_dims)\n",
    "#pca_df.to_csv(pca_data_path)\n",
    "        \n",
    "#runtsne(pca_df, figures_dir, output_name+\"_pca\", encoding, labels, labels_key=\"labels\")\n",
    "#runumap(pca_df, figures_dir, output_name+\"_pca\", encoding, labels, labels_key=\"labels\")"
   ]
  },
  {
   "cell_type": "code",
   "execution_count": 11,
   "id": "e751b1ae-9f3a-4633-9726-d94bf8ec9f5c",
   "metadata": {},
   "outputs": [
    {
     "name": "stdout",
     "output_type": "stream",
     "text": [
      "Number of Parameters:  32748796\n",
      "\tEpoch 1 complete. \tAverage Loss Train :  0.5750712582043239 \tAverage Loss Val :  0.5161418318748474\n",
      "\tEpoch 2 complete. \tAverage Loss Train :  0.5089392704623086 \tAverage Loss Val :  0.4863979071378708\n",
      "\tEpoch 3 complete. \tAverage Loss Train :  0.4654242992401123 \tAverage Loss Val :  0.45257745683193207\n",
      "\tEpoch 4 complete. \tAverage Loss Train :  0.4242793917655945 \tAverage Loss Val :  0.4206697940826416\n",
      "\tEpoch 5 complete. \tAverage Loss Train :  0.358467127595629 \tAverage Loss Val :  0.4051290899515152\n",
      "\tEpoch 6 complete. \tAverage Loss Train :  0.17541852380548204 \tAverage Loss Val :  0.1519867554306984\n",
      "\tEpoch 7 complete. \tAverage Loss Train :  0.11938887302364622 \tAverage Loss Val :  0.13415444642305374\n",
      "\tEpoch 8 complete. \tAverage Loss Train :  0.10461862278836113 \tAverage Loss Val :  0.12744084745645523\n",
      "\tEpoch 9 complete. \tAverage Loss Train :  0.09295501347099032 \tAverage Loss Val :  0.12525710090994835\n",
      "\tEpoch 10 complete. \tAverage Loss Train :  0.08096088362591607 \tAverage Loss Val :  0.12276343628764153\n",
      "\tEpoch 11 complete. \tAverage Loss Train :  0.07474263225282941 \tAverage Loss Val :  0.11853042244911194\n",
      "\tEpoch 12 complete. \tAverage Loss Train :  0.06230663348521505 \tAverage Loss Val :  0.11595755815505981\n",
      "\tEpoch 13 complete. \tAverage Loss Train :  0.05770292718495641 \tAverage Loss Val :  0.12032962217926979\n",
      "\tEpoch 14 complete. \tAverage Loss Train :  0.05159081199339458 \tAverage Loss Val :  0.12336725369095802\n",
      "\tEpoch 15 complete. \tAverage Loss Train :  0.05019291756408555 \tAverage Loss Val :  0.13019705563783646\n",
      "\tEpoch 16 complete. \tAverage Loss Train :  0.04668643857751574 \tAverage Loss Val :  0.12837454304099083\n",
      "\tEpoch 17 complete. \tAverage Loss Train :  0.043475374579429626 \tAverage Loss Val :  0.12720686942338943\n",
      "\tEpoch 18 complete. \tAverage Loss Train :  0.044015941343137195 \tAverage Loss Val :  0.1292848400771618\n",
      "\tEpoch 19 complete. \tAverage Loss Train :  0.03884868536676679 \tAverage Loss Val :  0.12362320348620415\n",
      "\tEpoch 20 complete. \tAverage Loss Train :  0.03405768557318619 \tAverage Loss Val :  0.12492658942937851\n",
      "\tEpoch 21 complete. \tAverage Loss Train :  0.03444145433604717 \tAverage Loss Val :  0.1279493346810341\n",
      "\tEpoch 22 complete. \tAverage Loss Train :  0.03270915762654373 \tAverage Loss Val :  0.14065631479024887\n",
      "\tEpoch 23 complete. \tAverage Loss Train :  0.03356874015714441 \tAverage Loss Val :  0.12701741605997086\n",
      "\tEpoch 24 complete. \tAverage Loss Train :  0.03135803687785353 \tAverage Loss Val :  0.12989180907607079\n",
      "\tEpoch 25 complete. \tAverage Loss Train :  0.03222769738308021 \tAverage Loss Val :  0.13737179711461067\n",
      "              labels\n",
      "                    \n",
      "TCGA-ZQ-A9CR       2\n",
      "TCGA-ZA-A8F6       0\n",
      "TCGA-VQ-AA6K       1\n",
      "TCGA-VQ-AA6J       2\n",
      "TCGA-VQ-AA6I       1\n",
      "[0 1 2]\n"
     ]
    }
   ],
   "source": [
    "latent_df = get_customics_latent(results_dir,\n",
    "                                 output_name,\n",
    "                                 omics_df,\n",
    "                                 mysamples,\n",
    "                                 labels,\n",
    "                                 latent_dim,\n",
    "                                 encoding\n",
    "                                )"
   ]
  },
  {
   "cell_type": "code",
   "execution_count": null,
   "id": "ed544009-2cf1-4209-9210-9f3d28984db2",
   "metadata": {},
   "outputs": [],
   "source": [
    "runtsne(latent_df, figures_dir, output_name, labels, labels_key=\"labels\", encoding=encoding)\n",
    "runumap(latent_df, figures_dir, output_name, labels, labels_key=\"labels\", encoding=encoding)"
   ]
  },
  {
   "cell_type": "code",
   "execution_count": null,
   "id": "1c818ff8-92b4-491d-b2b0-32f0777bbb8a",
   "metadata": {},
   "outputs": [],
   "source": [
    "latent_df.columns = [\"latent-%s\"%str(i) for i in latent_df.columns.to_list()]\n",
    "output_name_latent = output_name+\"_latent\"\n",
    "get_clustering_results(proc_dir,\n",
    "                       results_dir,\n",
    "                       output_name_latent,\n",
    "                       cluster_num,\n",
    "                       distance_types,\n",
    "                       norm_params,\n",
    "                       latent_df,\n",
    "                       labels\n",
    "                       )\n",
    "\n",
    "save_all_plots(figures_dir,\n",
    "               cluster_num,\n",
    "               norm_params,\n",
    "               output_name_latent,\n",
    "               results_dir)    "
   ]
  },
  {
   "cell_type": "code",
   "execution_count": null,
   "id": "b97c29f2-9754-4fad-87c0-52dc3c557c89",
   "metadata": {},
   "outputs": [],
   "source": [
    "comp_clinical_fname = \"%s_K=%i_clinical_input.csv\"\n",
    "clinical1 = pd.read_csv(clinical_path, index_col=2)\n",
    "clinical1.head()"
   ]
  },
  {
   "cell_type": "code",
   "execution_count": null,
   "id": "3f459598-7340-4088-b481-469900827dea",
   "metadata": {},
   "outputs": [],
   "source": [
    "clinical_df = clinical1[select_cols].dropna(axis=\"columns\")\n",
    "clinical_df.head()"
   ]
  },
  {
   "cell_type": "code",
   "execution_count": null,
   "id": "2f5fe9a0-f426-43ae-933a-da4aeeeded53",
   "metadata": {},
   "outputs": [],
   "source": [
    "clinical_df.shape"
   ]
  },
  {
   "cell_type": "code",
   "execution_count": null,
   "id": "44dd22bf-dd62-4095-ae27-381a3b3d1b7c",
   "metadata": {},
   "outputs": [],
   "source": [
    "sel_index = get_common_samples([latent_df, clinical_df])\n",
    "merged_latent = latent_df.loc[sel_index].join(clinical_df.loc[sel_index])\n",
    "merged_latent.to_csv(os.path.join(proc_dir,comp_clinical_fname%(output_name,\n",
    "                                                                   cluster_num)))\n",
    "\n"
   ]
  },
  {
   "cell_type": "code",
   "execution_count": null,
   "id": "c3d6c1fc-784d-47f8-8d13-f49336c32380",
   "metadata": {},
   "outputs": [],
   "source": [
    "output_name_latent_mixed = output_name+\"_latent_mixed\"\n",
    "get_clustering_results(proc_dir,\n",
    "                       results_dir,\n",
    "                       output_name_latent_mixed,\n",
    "                       mixedd_cluster,\n",
    "                       distance_types,\n",
    "                       norm_params,\n",
    "                       merged_latent,\n",
    "                       labels,\n",
    "                       kmeans_run=False)\n",
    "\n",
    "save_all_plots(figures_dir,\n",
    "               mixedd_cluster,\n",
    "               norm_params,\n",
    "               output_name_latent_mixed,\n",
    "               results_dir,\n",
    "               kmeans=False,\n",
    "               rand=False)"
   ]
  },
  {
   "cell_type": "code",
   "execution_count": null,
   "id": "2a6fd2b8-f681-442e-bc64-eacddfb8bcb4",
   "metadata": {},
   "outputs": [],
   "source": [
    "(mixomics_df, lbldf) = get_mixomics_output(proc_dir, output_name)\n"
   ]
  },
  {
   "cell_type": "code",
   "execution_count": null,
   "id": "3a2b492d-c844-4841-b053-e23bdcd881b5",
   "metadata": {},
   "outputs": [],
   "source": [
    "runtsne(mixomics_df, figures_dir, \"mixomics-%s\" %output_name, lbldf)\n",
    "runumap(mixomics_df, figures_dir, \"mixomics-%s\" %output_name, lbldf)"
   ]
  },
  {
   "cell_type": "code",
   "execution_count": null,
   "id": "eb8c073b-3345-4922-aa32-3cf77fffbc7f",
   "metadata": {},
   "outputs": [],
   "source": [
    "output_name_mixomics = output_name+\"_mixomics\"\n",
    "get_clustering_results(proc_dir,\n",
    "                       results_dir,\n",
    "                       output_name_mixomics,\n",
    "                       cluster_num,\n",
    "                       distance_types,\n",
    "                       norm_params,\n",
    "                       mixomics_df,\n",
    "                       lbldf\n",
    "                       )\n",
    "\n",
    "save_all_plots(figures_dir,\n",
    "               cluster_num,\n",
    "               norm_params,\n",
    "               output_name_mixomics,\n",
    "               results_dir)    "
   ]
  },
  {
   "cell_type": "code",
   "execution_count": null,
   "id": "b5ec04a8-a550-4a58-b949-03b28c48ff04",
   "metadata": {},
   "outputs": [],
   "source": [
    "mixomics_df.index = latent_df.index"
   ]
  },
  {
   "cell_type": "code",
   "execution_count": null,
   "id": "c00eaf35-6a3b-45c0-9ca0-aa9376952320",
   "metadata": {},
   "outputs": [],
   "source": [
    "sel_index = get_common_samples([mixomics_df, clinical_df])\n",
    "merged_mixomics = mixomics_df.loc[sel_index].join(clinical_df.loc[sel_index])\n",
    "merged_mixomics"
   ]
  },
  {
   "cell_type": "code",
   "execution_count": null,
   "id": "bf911cea-4c26-4f98-a442-7502264c5bf9",
   "metadata": {},
   "outputs": [],
   "source": [
    "output_name_mixomics_mixed = output_name+\"_mixomics_mixed\"\n",
    "get_clustering_results(proc_dir,\n",
    "                       results_dir,\n",
    "                       output_name_mixomics_mixed,\n",
    "                       mixedd_cluster,\n",
    "                       distance_types,\n",
    "                       norm_params,\n",
    "                       merged_mixomics,\n",
    "                       lbldf,\n",
    "                       kmeans_run=False\n",
    "                      )\n",
    "\n",
    "save_all_plots(figures_dir,\n",
    "               mixedd_cluster,\n",
    "               norm_params,\n",
    "               output_name_mixomics_mixed,\n",
    "               results_dir,\n",
    "               kmeans=False,\n",
    "               rand=False)  "
   ]
  },
  {
   "cell_type": "code",
   "execution_count": null,
   "id": "293c8a52-43fd-4bf3-ad4e-4b6d812676c2",
   "metadata": {},
   "outputs": [],
   "source": [
    "#methyldf_load_path = os.path.join(base_dir, \"methyl_loadings.csv\")\n",
    "#mrnadf_load_path = os.path.join(base_dir, \"mRNA_loadings.csv\")\n",
    "#mirnadf_load_path = os.path.join(base_dir, \"miRNA_loadings.csv\")\n",
    "#methyl_loads = pd.read_csv(methyldf_load_path, index_col=0)\n",
    "#mrna_loads = pd.read_csv(mrnadf_load_path, index_col=0)\n",
    "#mirna_loads = pd.read_csv(mirnadf_load_path, index_col=0)"
   ]
  },
  {
   "cell_type": "code",
   "execution_count": null,
   "id": "f4da7258-e881-4161-bee8-c383e3523472",
   "metadata": {},
   "outputs": [],
   "source": []
  }
 ],
 "metadata": {
  "kernelspec": {
   "display_name": "Python 3 (ipykernel)",
   "language": "python",
   "name": "python3"
  },
  "language_info": {
   "codemirror_mode": {
    "name": "ipython",
    "version": 3
   },
   "file_extension": ".py",
   "mimetype": "text/x-python",
   "name": "python",
   "nbconvert_exporter": "python",
   "pygments_lexer": "ipython3",
   "version": "3.9.6"
  }
 },
 "nbformat": 4,
 "nbformat_minor": 5
}
