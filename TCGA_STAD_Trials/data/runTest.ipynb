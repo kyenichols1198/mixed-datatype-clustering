{
 "cells": [
  {
   "cell_type": "markdown",
   "id": "078f5006-052d-48d1-a2c7-eb3515b2f0cb",
   "metadata": {},
   "source": [
    "### Cluster Test"
   ]
  },
  {
   "cell_type": "code",
   "execution_count": null,
   "id": "06daef6f-923b-41bd-96a3-16232e5509d4",
   "metadata": {},
   "outputs": [],
   "source": [
    "\"\"\"\n",
    "Author: Kye D Nichols\n",
    "This script runs clustering methods\n",
    "\"\"\""
   ]
  },
  {
   "cell_type": "code",
   "execution_count": null,
   "id": "c383a197-1b3b-4293-8bc7-efb69318dcf6",
   "metadata": {},
   "outputs": [],
   "source": [
    "import os, pickle\n",
    "import pandas as pd\n",
    "import numpy as np\n",
    "from src.helper_scripts import *\n",
    "from kmodes.kprototypes import KPrototypes\n",
    "from sklearn.cluster import AgglomerativeClustering\n",
    "from sklearn.metrics import pairwise_distances\n",
    "from sklearn_extra.cluster import KMedoids\n",
    "from sklearn.metrics.pairwise import pairwise_distances\n",
    "from scipy.spatial import distance\n",
    "from sklearn.model_selection import train_test_split\n",
    "from sklearn.metrics import rand_score\n",
    "from sklearn.decomposition import PCA\n",
    "from matplotlib import pyplot as plt\n",
    "import plotly.express as px\n",
    "import plotly.graph_objects as go\n",
    "import plotly.figure_factory as ff\n",
    "from plotly.offline import iplot, plot\n",
    "from sklearn.metrics import silhouette_score\n",
    "from sklearn.metrics.cluster import adjusted_rand_score\n",
    "from sklearn.cluster import KMeans\n",
    "from sklearn import preprocessing\n",
    "from sklearn.manifold import TSNE\n",
    "import umap\n",
    "import json\n",
    "from sparsemedoid import clustering"
   ]
  },
  {
   "cell_type": "code",
   "execution_count": null,
   "id": "6ced6cb5-09f0-4247-ae69-5997215862ea",
   "metadata": {},
   "outputs": [],
   "source": [
    "\n",
    "# number of clusters (int), list of distance types ([str]), ...\n",
    "# from J's run.py code in test subdirectory\n",
    "def run_kmedoids_clustering(clusters, distance_types, normalization_param, X_df):\n",
    "    total_runs = (len(clusters) * len(distance_types) * len(normalization_param))\n",
    "    Scores = np.zeros((1, total_runs))\n",
    "    barcodes = X_df.index.to_list()\n",
    "    X = X_df.to_numpy()\n",
    "    P = X.shape[0]\n",
    "    N = X.shape[1]\n",
    "    prefix_cols = []\n",
    "    all_feature_weights = np.zeros((N, total_runs))\n",
    "    all_cluster_labels = np.zeros((P, total_runs))\n",
    "    iter1 = 0\n",
    "    for K in clusters:\n",
    "        for distance in distance_types:\n",
    "            for S in normalization_param:\n",
    "                results_path_prefix = f\"K={K}_dist={distance}_S={S}\"\n",
    "                prefix_col = f\"N={N}_K={K}_dist={distance}_nparam={S}\"\n",
    "                prefix_cols.append(results_path_prefix)\n",
    "                (\n",
    "                    cluster_labels,\n",
    "                    feature_weights,\n",
    "                    feature_order,\n",
    "                    weighted_distances,\n",
    "                ) = clustering.sparse_kmedoids(\n",
    "                    X,\n",
    "                    distance_type=distance,\n",
    "                    k=K,\n",
    "                    s=S,\n",
    "                    max_attempts=6,\n",
    "                    method=\"pam\",\n",
    "                    init=\"build\",\n",
    "                    max_iter=100,\n",
    "                    random_state=None,\n",
    "                )\n",
    "                Scores[0, iter1] += silhouette_score(\n",
    "                    weighted_distances, cluster_labels, metric=\"precomputed\"\n",
    "                )\n",
    "                all_feature_weights[:, iter1] = feature_weights\n",
    "                all_cluster_labels[:, iter1] = cluster_labels\n",
    "                iter1 += 1\n",
    "    feature_weights_df = pd.DataFrame(all_feature_weights)\n",
    "    cluster_labels_df = pd.DataFrame(all_cluster_labels)\n",
    "    cluster_labels_df.index = barcodes\n",
    "    cluster_labels_df.columns = prefix_cols\n",
    "    feature_weights_df.index = X_df.columns.to_list()\n",
    "    feature_weights_df.columns = prefix_cols\n",
    "    scores_df = pd.DataFrame(Scores)\n",
    "    scores_df.columns = prefix_cols\n",
    "    return scores_df, cluster_labels_df, feature_weights_df\n",
    "\n",
    "def gower_distance(X):\n",
    "    gower_matrix = pairwise_distances(X, metric='manhattan')\n",
    "    return gower_matrix\n",
    "\n",
    "def run_skmedoids(indf, cluster_num, tag, output_dir):\n",
    "    scores_df, cluster_labels_df, feature_weights_df = run_kmedoids_clustering([cluster_num],\n",
    "                                                                                distance_types,\n",
    "                                                                                norm_params,\n",
    "                                                                                indf)\n",
    "    scores_df.to_csv(os.path.join(output_dir, \"%s_%s_K=%i.csv\" % (tag, kmedoid_score_str, cluster_num)))\n",
    "    feature_weights_df.to_csv(os.path.join(output_dir, \"%s_%s_K=%i.csv\" % (tag, kmedoid_weight_str, cluster_num)))\n",
    "    cluster_labels_df.to_csv(os.path.join(output_dir, \"%s_%s_K=%i.csv\" % (tag, kmedoid_lbl_str, cluster_num)))\n",
    "    indf.to_csv(os.path.join(output_dir, \"%s_%s_K=%i.csv\" % (tag, \"input\", cluster_num)))\n",
    "\n",
    "def run_vanilla_kmedoids_clustering(indf, cluster_num, tag, output_dir):\n",
    "    gower_matrix = gower_distance(np.array(indf))\n",
    "    kmedoids_gower = KMedoids(n_clusters=cluster_num, metric='precomputed').fit(gower_matrix)\n",
    "    clusters_gower = kmedoids_gower.labels_\n",
    "\n",
    "    kmedoids_euc = KMedoids(n_clusters=cluster_num, metric='euclidean').fit(np.array(indf))\n",
    "    clusters_euc = kmedoids_euc.labels_\n",
    "    indf['Cluster_Gower'] = kmedoids_gower.labels_\n",
    "    indf['Cluster_Euc'] = kmedoids_euc.labels_\n",
    "    out_path = os.path.join(output_dir, \"%s_%s_K=%i.csv\" % (tag, \"Kmedoids\", cluster_num))\n",
    "    indf.to_csv(out_path)\n",
    "\n",
    "def run_kprototype_clustering(indf, cluster_num, tag, output_dir, cat_col_idx):\n",
    "    kproto = KPrototypes(n_clusters=cluster_num, init='Cao', verbose=2)\n",
    "    clusters = kproto.fit_predict(np.array(indf), categorical=cat_col_idx)\n",
    "    indf['Cluster'] = clusters\n",
    "    out_path = os.path.join(output_dir, \"%s_%s_K=%i.csv\" % (tag, \"Kprototype\", cluster_num))\n",
    "    indf.to_csv(out_path)\n",
    "\n",
    "def run_kmeans_clustering(indf, cluster_num, tag, output_dir):\n",
    "    kmeans = KMeans(n_clusters=cluster_num)\n",
    "    clusters = kmeans.fit_predict(indf.values)\n",
    "    indf['Cluster'] = clusters\n",
    "    out_path = os.path.join(output_dir, \"%s_%s_K=%i.csv\" % (tag, \"KMeans\", cluster_num))\n",
    "    indf.to_csv(out_path)\n",
    "    \n",
    "def run_agglo_clustering(indf, cluster_num, tag, output_dir):\n",
    "    agglo = AgglomerativeClustering(n_clusters=cluster_num)\n",
    "    clusters = agglo.fit_predict(np.array(indf))\n",
    "    indf['Cluster'] = clusters\n",
    "    out_path = os.path.join(output_dir, \"%s_%s_K=%i.csv\" % (tag, \"Agglo\", cluster_num))\n",
    "    indf.to_csv(out_path)\n",
    "\n",
    "   "
   ]
  },
  {
   "cell_type": "code",
   "execution_count": null,
   "id": "2fa3389d-bb30-42a2-bed2-25d0d7167db0",
   "metadata": {},
   "outputs": [],
   "source": [
    "my_tag = \"TCGA-STAD-Test\"\n",
    "#embedding_type = \"CustOmics\"\n",
    "embedding_type = \"MixOmics\"\n",
    "\n",
    "encoding_col = \"Subtype_Selected\"\n",
    "omics_pickle_path = \"integrated/TCGA-STAD-Test.pickle\"\n",
    "omics_df = pickle.load(open(omics_pickle_path,'rb'))\n",
    "Mixomics_embedding_path = \"integrated/embeddings/TCGA-STAD-Test_MixOmics_Embedding.csv\"\n",
    "Customics_embedding_path = \"integrated/embeddings/TCGA-STAD-Test_Customics_latent.csv\"\n",
    "\n",
    "clinical_path = \"downloads/TCGA-STAD/STAD_clinical.csv\"\n",
    "sample_list_path = \"integrated/TCGA-STAD-Test-sample_list.txt\"\n",
    "config_path= \"src/TCGA_Config-DS.json\"\n",
    "ground_truth_path = \"integrated/TCGA-STAD-Test_labels.csv\"\n",
    "results_dir = \"results\""
   ]
  },
  {
   "cell_type": "code",
   "execution_count": null,
   "id": "43393ecd-c3ae-4771-9bee-5a16483ec027",
   "metadata": {},
   "outputs": [],
   "source": [
    "config_json = json.load(open(config_path, 'r'))\n",
    "datatype_tag_dict = config_json['datatypes']\n",
    "encodings = config_json['encodings']\n",
    "encoding = encodings[encoding_col]\n",
    "cat_cols = config_json['categorical']\n",
    "num_cols = config_json['numerical']\n",
    "select_cols=cat_cols+num_cols\n",
    "mysamples = [i.strip() for i in open(sample_list_path, 'r').readlines()]"
   ]
  },
  {
   "cell_type": "code",
   "execution_count": null,
   "id": "189c6c0e-5d62-418f-9373-c3bde9164a97",
   "metadata": {},
   "outputs": [],
   "source": [
    "clinical_df = pd.read_csv(clinical_path, index_col=2)\n",
    "clinical_df = clinical_df.loc[mysamples][select_cols].dropna(axis=\"rows\")\n",
    "gt_df = pd.read_csv(ground_truth_path, index_col=0)"
   ]
  },
  {
   "cell_type": "code",
   "execution_count": null,
   "id": "8c9f4850-f4b5-44c3-999a-604c68935337",
   "metadata": {},
   "outputs": [],
   "source": [
    "customics_df = pd.read_csv(Customics_embedding_path, index_col=0)\n",
    "mixomics_df= pd.read_csv(Mixomics_embedding_path, index_col=0)"
   ]
  },
  {
   "cell_type": "code",
   "execution_count": null,
   "id": "f5c89d4a-e8ad-4de7-a860-4602e587542e",
   "metadata": {},
   "outputs": [],
   "source": [
    "if embedding_type ==  \"CustOmics\": embedding_df = customics_df\n",
    "else: embedding_df = mixomics_df"
   ]
  },
  {
   "cell_type": "code",
   "execution_count": null,
   "id": "72402893-ca9b-4b61-b891-62bbd60712e5",
   "metadata": {},
   "outputs": [],
   "source": [
    "clinical_df_enc = one_hot_encode(clinical_df, cat_cols)\n",
    "clinical_df_enc_norm = one_hot_encode(clinical_df, cat_cols, norm=True)"
   ]
  },
  {
   "cell_type": "code",
   "execution_count": null,
   "id": "4207763f-62ba-43e0-afff-a66c4fcf0e41",
   "metadata": {},
   "outputs": [],
   "source": [
    "kmedoid_score_str = \"skmedoids_scores\"\n",
    "kmedoid_weight_str = \"skmedoids_feature_weights\"\n",
    "kmedoid_lbl_str = \"skmedoids_cluster_labels\"\n",
    "distance_types = [\"gower\", \"wishart\", \"podani\"]\n",
    "norm_params = [1.01]+[i/10 for i in range(11,45,1)]\n",
    "cluster_num = 4 "
   ]
  },
  {
   "cell_type": "code",
   "execution_count": null,
   "id": "cfd93d7d-8951-4f8f-ba88-1fac863572d4",
   "metadata": {},
   "outputs": [],
   "source": [
    "#all_df = embedding_df.loc[mysamples].join(clinical_df.loc[mysamples])\n",
    "all_df = embedding_df.join(clinical_df).dropna(axis=\"rows\")\n",
    "all_df_enc = embedding_df.join(clinical_df_enc).dropna(axis=\"rows\")\n",
    "all_df_enc_norm = embedding_df.join(clinical_df_enc_norm).dropna(axis=\"rows\")"
   ]
  },
  {
   "cell_type": "code",
   "execution_count": null,
   "id": "c1dd9c7f-2688-4c4c-b194-ce0a603c937e",
   "metadata": {},
   "outputs": [],
   "source": [
    "run_skmedoids(all_df, cluster_num, \"%s-%s\"%(my_tag, embedding_type), results_dir)\n",
    "\n",
    "#list1 = all_df_enc.columns.to_list()\n",
    "#cat_col_idx = [index for index, item in enumerate(list1) if item in cat_cols]\n",
    "#run_kprototype_clustering(all_df_enc, cluster_num, mytag, results_dir, cat_col_idx)\n",
    "\n",
    "#run_vanilla_kmedoids_clustering(all_df_enc, cluster_num, mytag, results_dir)\n",
    "#run_kmeans_clustering(all_df_enc_norm, cluster_num, mytag, results_dir)\n",
    "#run_agglo_clustering(all_df_enc_norm, cluster_num, mytag, results_dir)"
   ]
  },
  {
   "cell_type": "markdown",
   "id": "556b4e66-716d-41c8-868f-876a80c7a42f",
   "metadata": {},
   "source": [
    "### Create graphs "
   ]
  },
  {
   "cell_type": "code",
   "execution_count": null,
   "id": "4e8605c1-73f9-4ee6-9064-b33f0a607a91",
   "metadata": {},
   "outputs": [],
   "source": [
    "skmedoids_labels_path = os.path.join(results_dir, \"%s-%s_skmedoids_cluster_labels_K=4.csv\" %(my_tag, embedding_type))\n",
    "skmedoids_weights_path = os.path.join(results_dir, \"%s-%s_skmedoids_feature_weights_K=4.csv\"%(my_tag, embedding_type))\n",
    "skmedoids_scores_path = os.path.join(results_dir, \"%s-%s_skmedoids_scores_K=4.csv\"%(my_tag, embedding_type))\n",
    "skmedoids_strs = [\"K=4_dist=gower\", \"K=4_dist=wishart\", \"K=4_dist=podani\"]"
   ]
  },
  {
   "cell_type": "code",
   "execution_count": null,
   "id": "a641d4c9-f654-4ba1-89c9-5f0ab5ede1d8",
   "metadata": {},
   "outputs": [],
   "source": [
    "skmedoids_labels = pd.read_csv(skmedoids_labels_path, index_col=0)\n",
    "skmedoids_weights = pd.read_csv(skmedoids_weights_path, index_col=0)\n",
    "skmedoids_scores = pd.read_csv(skmedoids_scores_path, index_col=0)"
   ]
  },
  {
   "cell_type": "code",
   "execution_count": null,
   "id": "61e4331a-f230-4de8-82ec-0e817b15fa22",
   "metadata": {},
   "outputs": [],
   "source": [
    "# plot heatmap of norm weights\n",
    "def plot_heatmap(title, weights_df, id_strs, height=1200):\n",
    "    select_cols = []\n",
    "    for id_str in id_strs:\n",
    "        for col in weights_df.columns:\n",
    "            if id_str in col:\n",
    "                select_cols.append(col)\n",
    "\n",
    "    layout = go.Layout(width=1000, height=height)\n",
    "    data = go.Heatmap(z=np.array(weights_df[select_cols]),\n",
    "                     x=[i for i in weights_df[select_cols].columns.to_list()],\n",
    "                     y=weights_df[select_cols].index.to_list(),\n",
    "                     colorscale = 'Blues')\n",
    "    fig = go.Figure(data=[data], layout=layout)\n",
    "    fig.update_layout(yaxis = dict(tickfont = dict(size=15)))\n",
    "    fig.update_layout(title = title)\n",
    "    fig.update_layout(legend = dict(font = dict(size=15)))\n",
    "    fig.update_layout(title = dict(font = dict(size=17)))\n",
    "    return fig"
   ]
  },
  {
   "cell_type": "code",
   "execution_count": null,
   "id": "a0a0b613-5d91-4d5c-a313-af92102880a3",
   "metadata": {},
   "outputs": [],
   "source": [
    "skmedoids_norm_weights = norm_feature_weights(skmedoids_weights)"
   ]
  },
  {
   "cell_type": "code",
   "execution_count": null,
   "id": "759b7ae7-850b-4eb7-a8d3-d7da08c1d911",
   "metadata": {},
   "outputs": [],
   "source": [
    "fig_hm = plot_heatmap(my_tag, skmedoids_norm_weights, skmedoids_strs)\n",
    "#plot(fig_hm, filename=os.path.join(results_dir,\"K=%s_%s_Feature_Map.html\" % (cluster_num, my_tag)))\n",
    "fig_hm"
   ]
  },
  {
   "cell_type": "code",
   "execution_count": null,
   "id": "68680128-4dec-4722-9db3-8e3d40efbc2b",
   "metadata": {},
   "outputs": [],
   "source": [
    "# plot score\n",
    "def plot_score(title, y_axis_str, id_strs, scores_df, norm_param, font_size = 20, width=750, height=400):\n",
    "    plot_dict= {\"norm param\":norm_param}; ys = []\n",
    "    for id_str in id_strs:\n",
    "        select_cols = []\n",
    "        for col in scores_df.columns:\n",
    "            if id_str in col:\n",
    "                select_cols.append(col)\n",
    "        y_str = \"%s \" % id_str\n",
    "        ys.append(y_str)\n",
    "        plot_dict[y_str] = scores_df[select_cols].loc[0].to_list()\n",
    "    score_plot_df = pd.DataFrame().from_dict(plot_dict)\n",
    "    fig = px.line(score_plot_df, x=\"norm param\", y=ys, width=width, height=height)\n",
    "    fig.update_layout(yaxis = dict(tickfont = dict(size=font_size)))\n",
    "    fig.update_layout(xaxis = dict(tickfont = dict(size=font_size)))\n",
    "    fig.update_layout(xaxis_title=\"Normalization Parameter\", yaxis_title=y_axis_str)\n",
    "    fig.update_layout(yaxis_title = dict(font = dict(size=font_size)))\n",
    "    fig.update_layout(xaxis_title = dict(font = dict(size=font_size)))\n",
    "    fig.update_layout(title = title)\n",
    "    fig.update_layout(legend = dict(font = dict(size=font_size-5)))\n",
    "    fig.update_layout(title = dict(font = dict(size=font_size+2)))\n",
    "    fig.update_traces(line={'width': 6})\n",
    "    fig.write_image(os.path.join(results_dir, \"%s_%s.png\" % (y_axis_str , my_tag)))\n",
    "    return fig"
   ]
  },
  {
   "cell_type": "code",
   "execution_count": null,
   "id": "ba712643-0209-4edb-88b4-f0628dfda9ff",
   "metadata": {},
   "outputs": [],
   "source": [
    "num_nonz_wieghts = get_perc_nonzero(skmedoids_weights)\n",
    "plot_score(my_tag, \"Non-Zero Features\", skmedoids_strs, num_nonz_wieghts, norm_params)"
   ]
  },
  {
   "cell_type": "code",
   "execution_count": null,
   "id": "b400e8de-1cd3-42cf-b798-10ee5303217a",
   "metadata": {},
   "outputs": [],
   "source": [
    "plot_score(my_tag, \"Silouette Score\",skmedoids_strs, skmedoids_scores, norm_params)"
   ]
  },
  {
   "cell_type": "code",
   "execution_count": null,
   "id": "833b66d6-97bf-483e-abb7-ed917a10c0e1",
   "metadata": {},
   "outputs": [],
   "source": [
    "def runtsne(indf, imgdir, tag, labels, labels_key=\"labels\", save_img=True, encoding=None):\n",
    "    labels_temp = labels.copy()\n",
    "    if encoding:\n",
    "        encoding_rev = {encoding[k]:k for k in list(encoding)}\n",
    "        labels_temp[labels_key] = labels_temp[labels_key].map(lambda s: encoding_rev.get(s))\n",
    "    X = np.array(indf)\n",
    "    X_embedded = TSNE(n_components = 2,\n",
    "                      learning_rate = 'auto',\n",
    "                      init='random',\n",
    "                      perplexity = 30).fit_transform(X)\n",
    "    tsne_df = pd.DataFrame({'tsne_1': X_embedded[:,0],\n",
    "                            'tsne_2': X_embedded[:,1],\n",
    "                            'label': labels_temp[labels_key]})\n",
    "    tsne_df.index = indf.index\n",
    "    fig = px.scatter(tsne_df, x=\"tsne_1\", y=\"tsne_2\", color='label', width=500, height=400)\n",
    "    fig.write_image(os.path.join(imgdir, \"%s_tnse.png\" % tag))\n",
    "    return fig\n",
    "\n",
    "def runumap(indf, imgdir, tag, labels, labels_key=\"labels\", save_img=True, encoding=None):\n",
    "    labels_temp = labels.copy()\n",
    "    if encoding:\n",
    "        encoding_rev = {encoding[k]:k for k in list(encoding)}\n",
    "        labels_temp[labels_key] = labels_temp[labels_key].map(lambda s: encoding_rev.get(s))\n",
    "    X = np.array(indf)\n",
    "    X_embedded = umap.UMAP(n_neighbors=10,\n",
    "                      min_dist=0.3,\n",
    "                      metric='correlation').fit_transform(X)\n",
    "    umap_df = pd.DataFrame({'umap_1': X_embedded[:,0],\n",
    "                            'umap_2': X_embedded[:,1],\n",
    "                            'label': labels_temp[labels_key]})\n",
    "    umap_df.index = indf.index\n",
    "    fig = px.scatter(umap_df, x=\"umap_1\", y=\"umap_2\", color='label', width=500, height=400)\n",
    "    fig.write_image(os.path.join(imgdir, \"%s_umap.png\" % tag))\n",
    "    return fig\n"
   ]
  },
  {
   "cell_type": "code",
   "execution_count": null,
   "id": "2db3409f-91a1-40a5-9acf-6c9f28ed606d",
   "metadata": {},
   "outputs": [],
   "source": [
    "#runtsne(embedding_df, results_dir, my_tag, gt_df)"
   ]
  },
  {
   "cell_type": "code",
   "execution_count": null,
   "id": "a7ca4a87-43d5-4a6c-ac11-55301b26649b",
   "metadata": {},
   "outputs": [],
   "source": [
    "#runumap(embedding_df, results_dir, my_tag, gt_df)"
   ]
  },
  {
   "cell_type": "code",
   "execution_count": null,
   "id": "70498570-7161-4bc2-bf5d-cfdf575243c6",
   "metadata": {},
   "outputs": [],
   "source": [
    "# calculate adjusted and unadjusted Rand scores\n",
    "def get_rand_index(cluster_df, lbls):\n",
    "    out_dict_rand={}; out_dict_arand={}\n",
    "    for col in cluster_df.columns:\n",
    "        out_dict_rand[col]=[rand_score(cluster_df[col], lbls)]\n",
    "        out_dict_arand[col]=[adjusted_rand_score(cluster_df[col], lbls)]\n",
    "    return pd.DataFrame().from_dict(out_dict_rand), pd.DataFrame().from_dict(out_dict_arand)\n",
    "\n",
    "# plot Rand Index or adjusted\n",
    "def plot_rand(tag, id_strs, scores_df, norm_param, lbls):\n",
    "    rand_df, arand_df = get_rand_index(skmedoids_labels, lbls)\n",
    "    fig1 = plot_score(my_tag+\"_ARand\", \"Adj. Rand\", id_strs, arand_df, norm_param)\n",
    "    fig2 = plot_score(my_tag+\"_Rand\", \"Rand\", id_strs, rand_df, norm_param)\n",
    "    return fig1, fig2\n"
   ]
  },
  {
   "cell_type": "code",
   "execution_count": null,
   "id": "e953eac1-2ab1-4722-b908-87eabc2504f8",
   "metadata": {},
   "outputs": [],
   "source": [
    "lbls = gt_df.loc[skmedoids_labels.index.to_list()].sort_index(ascending=False)[\"labels\"]\n",
    "arand_fig, rand_fig = plot_rand(my_tag, skmedoids_strs, skmedoids_labels , norm_params, lbls)"
   ]
  },
  {
   "cell_type": "code",
   "execution_count": null,
   "id": "b5b7dbaf-49f9-4ce6-a9ef-acc9312baa45",
   "metadata": {},
   "outputs": [],
   "source": [
    "rand_fig"
   ]
  },
  {
   "cell_type": "code",
   "execution_count": null,
   "id": "14bddea6-9123-4156-9261-9592d108d114",
   "metadata": {},
   "outputs": [],
   "source": [
    "arand_fig"
   ]
  },
  {
   "cell_type": "code",
   "execution_count": null,
   "id": "3cdb3b5a-7e9f-4130-bdbc-93c95aef287a",
   "metadata": {},
   "outputs": [],
   "source": [
    "def make_tsne_mixed(dist_types, norm_weights, input_df, lbl_list, norm_list):\n",
    "    figs = []\n",
    "    for dist_type in dist_types:\n",
    "        for sn in norm_list:\n",
    "            weighted_df = input_df.copy()\n",
    "            wts = norm_weights[\"K=4_dist=%s_S=%s\"% (dist_type, sn)] \n",
    "            for i in input_df.columns.to_list():\n",
    "                new_col = []\n",
    "                for el in list(input_df[i]):\n",
    "                    new_col.append(el*wts[i])\n",
    "                weighted_df[i] = new_col\n",
    "            X = np.array(weighted_df)\n",
    "            X_embedded = TSNE(n_components = 2,\n",
    "                              learning_rate = 'auto',\n",
    "                              init='random',\n",
    "                              perplexity = 30).fit_transform(X)\n",
    "            tsne_df = pd.DataFrame({'tsne_1': X_embedded[:,0],\n",
    "                                    'tsne_2': X_embedded[:,1]})\n",
    "            tsne_df.index = weighted_df.index\n",
    "            for lbl in lbl_list:\n",
    "                tsne_df['label'] = lbl\n",
    "                fig = px.scatter(tsne_df, x=\"tsne_1\", y=\"tsne_2\", color='label', width=500, height=400, title= \"%s-%s-%s\" % (my_tag, dist_type,sn))\n",
    "                figs.append(fig)\n",
    "    return figs"
   ]
  },
  {
   "cell_type": "code",
   "execution_count": null,
   "id": "976e1aba-70de-4111-89bf-239bb571cd36",
   "metadata": {},
   "outputs": [],
   "source": [
    "figs = make_tsne_mixed([\"wishart\", \"podani\", \"gower\"], skmedoids_norm_weights, all_df_enc_norm, [lbls], ['2.1','3.5','4.4'])"
   ]
  },
  {
   "cell_type": "code",
   "execution_count": null,
   "id": "1d139f7e-6fc5-4d0d-9a50-33803fd31d69",
   "metadata": {},
   "outputs": [],
   "source": [
    "len(figs)"
   ]
  },
  {
   "cell_type": "code",
   "execution_count": null,
   "id": "1b47e74d-e957-44a4-9e94-38d34985e89e",
   "metadata": {},
   "outputs": [],
   "source": [
    "for fig in figs: fig.show()"
   ]
  }
 ],
 "metadata": {
  "kernelspec": {
   "display_name": "Python 3 (ipykernel)",
   "language": "python",
   "name": "python3"
  },
  "language_info": {
   "codemirror_mode": {
    "name": "ipython",
    "version": 3
   },
   "file_extension": ".py",
   "mimetype": "text/x-python",
   "name": "python",
   "nbconvert_exporter": "python",
   "pygments_lexer": "ipython3",
   "version": "3.9.6"
  }
 },
 "nbformat": 4,
 "nbformat_minor": 5
}
