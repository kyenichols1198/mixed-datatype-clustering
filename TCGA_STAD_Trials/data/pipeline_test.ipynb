{
 "cells": [
  {
   "cell_type": "code",
   "execution_count": null,
   "id": "2d1306b3-34a9-4c88-89e1-b62693a9c2b4",
   "metadata": {},
   "outputs": [],
   "source": [
    "\"\"\"\n",
    "Author: Kye D Nichols\n",
    "This script preps data and runs clustering\n",
    "\n",
    "Usage: prep_data.py\n",
    "\"\"\"\n",
    "import os\n",
    "import pandas as pd\n",
    "import numpy as np"
   ]
  },
  {
   "cell_type": "code",
   "execution_count": null,
   "id": "9fe29bdf-fce9-4d64-96f2-c3eeb6a21404",
   "metadata": {},
   "outputs": [],
   "source": [
    "from prep_data import prep_multi_omics\n",
    "from run_customics import get_customics_latent"
   ]
  },
  {
   "cell_type": "code",
   "execution_count": null,
   "id": "065f63c2-bad3-4839-ac92-85248aaa505f",
   "metadata": {},
   "outputs": [],
   "source": [
    "from run_kmedoids import run_kmedoids_clustering\n",
    "from customics import CustOMICS, get_common_samples, get_sub_omics_df\n",
    "from helper_scripts import *"
   ]
  },
  {
   "cell_type": "code",
   "execution_count": null,
   "id": "727bdd98-8979-4127-8646-b2b305f8986f",
   "metadata": {},
   "outputs": [],
   "source": [
    "labels_path = os.path.join(os.pardir, \"extra/PANCAN_Subtype.csv\")\n",
    "#labels_path = os.path.join(os.pardir, \"extra/Immune_subtypes.csv\")\n",
    "output_path = os.path.join(os.pardir, 'data_proc')\n",
    "results_dir = os.path.join(os.pardir, 'results')\n",
    "figures_dir = os.path.join(os.pardir, 'figures')"
   ]
  },
  {
   "cell_type": "code",
   "execution_count": null,
   "id": "1768efa3-d717-4287-8dcf-04dad5a5f023",
   "metadata": {},
   "outputs": [],
   "source": [
    "'''\n",
    "output_name = \"GDC-PANCAN\"\n",
    "input_dir = os.path.join(os.pardir, 'data/GDC-PANCAN')\n",
    "latent_dim = 32\n",
    "\n",
    "label_col_name = \"cancer.type\"\n",
    "sep_token = \"\\t\"\n",
    "label_idx=0\n",
    "datatype_tag_dict = {\"miRNAseq\":\".mirna.tsv\",\n",
    "                     \"RNAseq\":\".htseq_counts.tsv\",\n",
    "                     \"RNAseq\":\".htseq_fpkm-uq.tsv\",\n",
    "                     \"RNAseq\":\".htseq_fpkm.tsv\",\n",
    "                     \"methyl\":\".methylation450.tsv\",\n",
    "                     \"CNV\": \".gistic.tsv\"\n",
    "                     }\n",
    "encoding = {'STAD': 0, 'LAML': 1, 'COAD': 2, 'ESCA': 3, 'BRCA':4}\n",
    "(omics_df, labels, mysamples, outpaths) = prep_multi_omics(input_dir,\n",
    "                                                 output_name,\n",
    "                                                 output_path,\n",
    "                                                 label_col_name,\n",
    "                                                 label_idx,\n",
    "                                                 datatype_tag_dict,\n",
    "                                                 sep_token,\n",
    "                                                 labels_path,\n",
    "                                                 encoding)\n",
    "\n",
    "\n",
    "pca_dims=200\n",
    "pca_data_path = os.path.join(output_path, \"%s_pca.csv\" % output_name)\n",
    "pca_df = pca_multi_omics(omics_df, pca_dims)\n",
    "pca_df.to_csv(pca_data_path)\n",
    "\n",
    "runtsne(pca_df, figures_dir, output_name, encoding, labels, labels_key=\"labels\")\n",
    "runumap(pca_df, figures_dir, output_name, encoding, labels, labels_key=\"labels\")\n",
    "'''"
   ]
  },
  {
   "cell_type": "code",
   "execution_count": null,
   "id": "7918b1cd-8758-4aa1-9777-3d01adb0a08e",
   "metadata": {},
   "outputs": [],
   "source": [
    "#output_name = \"TCGA-STAD-Immune.subtype.noprot\"\n",
    "output_name = \"TCGA-STAD-GI.subtype.noprot\"\n",
    "latent_dim = 32\n",
    "\n",
    "input_dir = os.path.join(os.pardir, 'data/TCGA-STAD')\n",
    "#label_col_name = \"Subtype_Selected\"\n",
    "label_col_name = \"cancer.type\"\n",
    "\n",
    "sep_token = \",\"\n",
    "datatype_tag_dict = {\"RNAseq\":\"Counts_tpm.csv\",\n",
    "                     \"miRNAseq\":\"miRNA.csv\",\n",
    "                     \"methyl\":\"Methyl450-Beta.csv\"\n",
    "#                     \"Protein\":\"RPPA.csv\"\n",
    "                     }\n",
    "#encoding = {'GI.CIN': 0, 'GI.EBV': 1, 'GI.GS': 2, 'GI.MSI': 3}\n",
    "#label_idx= 1\n",
    "encoding = {\"StE\":0, \"ImD\":1, \"ImE\":2}\n",
    "label_idx= 0\n",
    "(omics_df, labels, mysamples, outpaths) = prep_multi_omics(input_dir,\n",
    "                                                 output_name,\n",
    "                                                 output_path,\n",
    "                                                 label_col_name,\n",
    "                                                 label_idx,\n",
    "                                                 datatype_tag_dict,\n",
    "                                                 sep_token,\n",
    "                                                 labels_path,\n",
    "                                                 encoding)\n",
    "\n",
    "comp_clinical_fname = \"%s_K=%i_clinical_input.csv\"\n",
    "\n",
    "clinical1 = pd.read_csv(os.path.join(input_dir, \"STAD_clinical.csv\"), index_col=2)\n",
    "clinical2 = pd.read_csv(os.path.join(input_dir, \"TCGA-STAD.GDC_phenotype.tsv\"), sep=\"\\t\", index_col=0)\n",
    "clinical_df = clinical1.join(clinical2)\n",
    "\n",
    "cat_cols = [\"tissue_or_organ_of_origin\",\n",
    "            \"primary_diagnosis\",\n",
    "            \"ajcc_pathologic_t\",\n",
    "            \"race\",\n",
    "            \"vital_status\",\n",
    "            \"treatments_pharmaceutical_treatment_or_therapy\",\n",
    "            \"treatments_radiation_treatment_or_therapy\",\n",
    "            \"vital_status\",\n",
    "            \"gender\",\n",
    "            \"icd_10_code\",\n",
    "            \"ajcc_pathologic_m\",\n",
    "            \"prior_malignancy\"]\n",
    "\n",
    "clinical_df_reduced = clinical_df[cat_cols]\n",
    "\n",
    "                                 \n",
    "                                 \n",
    "clinical_df = clinical_df_reduced.dropna(axis=\"columns\")\n",
    "outpaths, clinical_df.shape"
   ]
  },
  {
   "cell_type": "code",
   "execution_count": null,
   "id": "8fc857e1-32a6-4b1a-8e22-314adb57e84d",
   "metadata": {},
   "outputs": [],
   "source": [
    "latent_df = get_customics_latent(output_path,\n",
    "                                 output_name,\n",
    "                                 omics_df,\n",
    "                                 mysamples,\n",
    "                                 labels,\n",
    "                                 latent_dim,\n",
    "                                 encoding\n",
    "                                )"
   ]
  },
  {
   "cell_type": "code",
   "execution_count": null,
   "id": "d17eeaed-8cf5-4235-90b8-2827c345540a",
   "metadata": {},
   "outputs": [],
   "source": [
    "mixomics_str = \"Rscript runMixOmics.r\"\n",
    "mixomics_output_path = os.path.join(output_path, \"%s_mixomics.rds\"%output_name)\n",
    "print(\"Run:\\n%s %s %s\" % (mixomics_str, ' '.join(outpaths), mixomics_output_path))"
   ]
  },
  {
   "cell_type": "code",
   "execution_count": null,
   "id": "e819c253-6890-4fb1-a0a1-f1f15d176fc2",
   "metadata": {},
   "outputs": [],
   "source": [
    "latent_df.columns = [\"latent-%s\"%str(i) for i in latent_df.columns.to_list()]\n",
    "distance_types = [\"gower\", \"wishart\", \"podani\"]\n",
    "norm_params = [1.01]+[i/10 for i in range(11,45,1)]\n",
    "cluster_num = 4\n",
    "output_name_latent = output_name+\"_latent\"\n",
    "get_clustering_results(output_path,\n",
    "                       results_dir,\n",
    "                       output_name_latent,\n",
    "                       cluster_num,\n",
    "                       distance_types,\n",
    "                       norm_params,\n",
    "                       latent_df,\n",
    "                       labels)"
   ]
  },
  {
   "cell_type": "code",
   "execution_count": null,
   "id": "79daf3a1-e235-4264-9fed-134e238f89e1",
   "metadata": {},
   "outputs": [],
   "source": [
    "save_all_plots(figures_dir,\n",
    "               cluster_num,\n",
    "               norm_params,\n",
    "               output_name_latent,\n",
    "               results_dir)"
   ]
  },
  {
   "cell_type": "code",
   "execution_count": null,
   "id": "56d1d2ae-cf7a-40ee-b7fd-231056cad5cc",
   "metadata": {},
   "outputs": [],
   "source": [
    "runtsne(latent_df, figures_dir, output_name, encoding, labels, labels_key=\"labels\")\n",
    "runumap(latent_df, figures_dir, output_name, encoding, labels, labels_key=\"labels\")"
   ]
  },
  {
   "cell_type": "code",
   "execution_count": null,
   "id": "1d716cbe-5515-4316-aef0-e5f961e8a066",
   "metadata": {},
   "outputs": [],
   "source": [
    "sel_index = get_common_samples([latent_df, clinical_df])\n",
    "merged_latent = latent_df.loc[sel_index].join(clinical_df.loc[sel_index])\n",
    "merged_latent.to_csv(os.path.join(output_path,comp_clinical_fname%(output_name, cluster_num)))"
   ]
  },
  {
   "cell_type": "code",
   "execution_count": null,
   "id": "3bec6fab-b392-45fe-b183-90051c8c059c",
   "metadata": {},
   "outputs": [],
   "source": [
    "output_name_latent_mixed = output_name+\"_latent_mixed\"\n",
    "get_clustering_results(output_path,\n",
    "                       results_dir,\n",
    "                       output_name_latent_mixed,\n",
    "                       cluster_num,\n",
    "                       distance_types,\n",
    "                       norm_params,\n",
    "                       merged_latent,\n",
    "                       labels,\n",
    "                       kmeans_run=False)"
   ]
  },
  {
   "cell_type": "code",
   "execution_count": null,
   "id": "ce7bddcc-b597-4dcb-9658-9af4461caf82",
   "metadata": {},
   "outputs": [],
   "source": [
    "save_all_plots(figures_dir,\n",
    "               cluster_num,\n",
    "               norm_params,\n",
    "               output_name_latent_mixed,\n",
    "               results_dir,\n",
    "               kmeans=False)"
   ]
  },
  {
   "cell_type": "code",
   "execution_count": null,
   "id": "7b0eb51a-a90c-43e2-bcb5-e69b6517cf1b",
   "metadata": {},
   "outputs": [],
   "source": [
    "comp_fname = \"%s_K=%i_comp_input.csv\"\n",
    "mixomics_paths = [i.replace(\".csv\", \"variates.csv\") for i in outpaths]\n",
    "mixomics_df = merge_components(mixomics_paths)\n",
    "mixomics_df.index = pd.read_csv(outpaths[0], index_col=0).index\n",
    "mixomics_df.to_csv(os.path.join(output_path, comp_fname%(output_name, cluster_num)))"
   ]
  },
  {
   "cell_type": "code",
   "execution_count": null,
   "id": "2c8d0c68-3b00-4ff5-bdbd-b6b873260152",
   "metadata": {},
   "outputs": [],
   "source": [
    "output_name_comp = output_name+\"_comp\"\n",
    "get_clustering_results(output_path,\n",
    "                       results_dir,\n",
    "                       output_name_comp,\n",
    "                       cluster_num,\n",
    "                       distance_types,\n",
    "                       norm_params,\n",
    "                       mixomics_df,\n",
    "                       labels)"
   ]
  },
  {
   "cell_type": "code",
   "execution_count": null,
   "id": "c6b781f8-7269-4f30-b383-c1317bc843cb",
   "metadata": {},
   "outputs": [],
   "source": [
    "save_all_plots(figures_dir,\n",
    "               cluster_num,\n",
    "               norm_params,\n",
    "               output_name_comp,\n",
    "               results_dir)"
   ]
  },
  {
   "cell_type": "code",
   "execution_count": null,
   "id": "183c6a25-9402-4355-89e7-dc81c5fc2781",
   "metadata": {},
   "outputs": [],
   "source": [
    "sel_index = get_common_samples([mixomics_df, clinical_df])\n",
    "merged_comp = mixomics_df.loc[sel_index].join(clinical_df.loc[sel_index])"
   ]
  },
  {
   "cell_type": "code",
   "execution_count": null,
   "id": "b2c7d803-729a-4b96-9fdc-f255afc9cfab",
   "metadata": {},
   "outputs": [],
   "source": [
    "runtsne(latent_df, figures_dir, output_name, encoding, labels, labels_key=\"labels\")\n",
    "runumap(latent_df, figures_dir, output_name, encoding, labels, labels_key=\"labels\")"
   ]
  },
  {
   "cell_type": "code",
   "execution_count": null,
   "id": "815775a4-fe17-4913-a123-f81155f29a69",
   "metadata": {},
   "outputs": [],
   "source": [
    "output_name_comp_mixed = output_name+\"_comp_clinical\"\n",
    "get_clustering_results(output_path,\n",
    "                       results_dir,\n",
    "                       output_name_comp_mixed,\n",
    "                       cluster_num,\n",
    "                       distance_types,\n",
    "                       norm_params,\n",
    "                       merged_comp,\n",
    "                       labels)"
   ]
  },
  {
   "cell_type": "code",
   "execution_count": null,
   "id": "2ec44b06-ecdd-47d3-9fd0-bd73f71f27a4",
   "metadata": {},
   "outputs": [],
   "source": [
    "save_all_plots(figures_dir,\n",
    "               cluster_num,\n",
    "               norm_params,\n",
    "               output_name_comp_mixed,\n",
    "               results_dir,\n",
    "               kmeans=False)"
   ]
  },
  {
   "cell_type": "code",
   "execution_count": null,
   "id": "2abaa688-ee95-4820-b6d6-1df4397e85ce",
   "metadata": {},
   "outputs": [],
   "source": [
    "cluster_num = \"7\"\n",
    "dist_type = \"gower\"\n",
    "norm_param = \"4.0\"\n",
    "table_outpath = os.path.join(output_path, \"%s_Table1.xlsx\" % outname)\n",
    "compare_clusters(indf, table_outpath, cluster_num, dist_type, norm_param, cat_cols)"
   ]
  },
  {
   "cell_type": "code",
   "execution_count": null,
   "id": "542f546f-b1ba-4765-b9eb-ecce7c893b9e",
   "metadata": {},
   "outputs": [],
   "source": []
  }
 ],
 "metadata": {
  "kernelspec": {
   "display_name": "Python 3 (ipykernel)",
   "language": "python",
   "name": "python3"
  },
  "language_info": {
   "codemirror_mode": {
    "name": "ipython",
    "version": 3
   },
   "file_extension": ".py",
   "mimetype": "text/x-python",
   "name": "python",
   "nbconvert_exporter": "python",
   "pygments_lexer": "ipython3",
   "version": "3.9.6"
  }
 },
 "nbformat": 4,
 "nbformat_minor": 5
}
